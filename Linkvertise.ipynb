#@markdown <center><img src='https://linkvertise.com/assets/img/final-Logo.png' height="50">
#@title <b><center>Enter Linkvertise-Link Below</center></b>
print("Downloading Cloud-Scraper...")
!pip install cloudscraper
print("Importing Files!")
import cloudscraper

url = "" #@param {type:"string"}
print("You have Entered:")
print("URL:")
print(url)
print("Bypassing the Link...")
# -------------------------------------------

def linkvertise(url):
    api = "https://api.emilyx.in/api"
    client = cloudscraper.create_scraper(allow_brotli=False)
    resp = client.get(url)
    if resp.status_code == 404:
        return "File not found/The link you entered is wrong!"
    try:
        resp = client.post(api, json={"type": "linkvertise", "url": url})
        res = resp.json()
    except BaseException:
        return "API UnResponsive / Invalid Link !"
    if res["success"] is True:
        return res["url"]
    else:
        return res["msg"]

# -------------------------------------------

res = linkvertise(url)

print(res)
print("Successfully Bypassed!")
